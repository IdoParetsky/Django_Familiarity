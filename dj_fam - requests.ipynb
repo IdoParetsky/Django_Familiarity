{
 "cells": [
  {
   "cell_type": "code",
   "execution_count": 54,
   "metadata": {},
   "outputs": [
    {
     "name": "stdout",
     "output_type": "stream",
     "text": [
      "Enter your name: invalid\n",
      "Enter your age: 121\n",
      "Enter your height: 1\n",
      "Enter your weight: 1\n",
      "Enter your occupation: 1\n"
     ]
    },
    {
     "data": {
      "text/plain": [
       "b'One or more among the fields are invalid, note that age should be between 0 and 120, height between 1 and 300, and weight between 1 and 999'"
      ]
     },
     "execution_count": 54,
     "metadata": {},
     "output_type": "execute_result"
    }
   ],
   "source": [
    "# add_human\n",
    "\n",
    "import requests, time\n",
    "\n",
    "name = input(\"Enter your name: \")\n",
    "age = int(input(\"Enter your age: \"))\n",
    "height = int(input(\"Enter your height: \"))\n",
    "weight = int(input(\"Enter your weight: \"))\n",
    "occupation = input(\"Enter your occupation: \")\n",
    "\n",
    "r = requests.post(\"http://localhost:8000/fam/add\",\n",
    "              json={\"name\" : name,\n",
    "                    \"age\" : age,\n",
    "                    \"height\" : height,\n",
    "                    \"weight\" : weight,\n",
    "                    \"occupation\" : occupation})\n",
    "\n",
    "r.content"
   ]
  },
  {
   "cell_type": "code",
   "execution_count": 37,
   "metadata": {},
   "outputs": [
    {
     "data": {
      "text/plain": [
       "b'{\"id\": 2, \"time\": \"2021-05-13T13:04:25.241076Z\", \"name\": \"Bobby Fischer\", \"age\": 70, \"height\": 175, \"weight\": 70, \"occupation\": \"Chess Player\"}'"
      ]
     },
     "execution_count": 37,
     "metadata": {},
     "output_type": "execute_result"
    }
   ],
   "source": [
    "# get_human\n",
    "\n",
    "import requests\n",
    "\n",
    "r = requests.post(\"http://localhost:8000/fam/get_human\",\n",
    "             json={\"name\" : \"Bobby Fischer\"})\n",
    "r.content\n"
   ]
  }
 ],
 "metadata": {
  "kernelspec": {
   "display_name": "Python 3",
   "language": "python",
   "name": "python3"
  },
  "language_info": {
   "codemirror_mode": {
    "name": "ipython",
    "version": 3
   },
   "file_extension": ".py",
   "mimetype": "text/x-python",
   "name": "python",
   "nbconvert_exporter": "python",
   "pygments_lexer": "ipython3",
   "version": "3.8.5"
  }
 },
 "nbformat": 4,
 "nbformat_minor": 4
}
